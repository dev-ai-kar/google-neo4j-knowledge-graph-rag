{
 "cells": [
  {
   "cell_type": "markdown",
   "id": "7e339f92-b552-4125-8d3d-12b83f898eb3",
   "metadata": {},
   "source": [
    "# Lesson 2: Querying Knowledge Graphs with Cypher"
   ]
  },
  {
   "cell_type": "markdown",
   "id": "c70c213c-7fd8-4e1c-8907-cc3b53bb5307",
   "metadata": {},
   "source": [
    "### Import packages and set up Neo4"
   ]
  },
  {
   "cell_type": "code",
   "execution_count": null,
   "id": "3edfcc5e-dd88-4a4e-b782-6d7dd0e6bfac",
   "metadata": {
    "tags": []
   },
   "outputs": [],
   "source": [
    "!pip install langchain-community langchain-core\n",
    "!pip install neo4j"
   ]
  },
  {
   "cell_type": "code",
   "execution_count": 1,
   "id": "12516e62-9317-41d5-af38-2980a068cdec",
   "metadata": {
    "tags": []
   },
   "outputs": [],
   "source": [
    "from dotenv import load_dotenv\n",
    "import os\n",
    "\n",
    "from langchain_community.graphs import Neo4jGraph\n",
    "\n",
    "# Warning control\n",
    "import warnings\n",
    "warnings.filterwarnings(\"ignore\")"
   ]
  },
  {
   "cell_type": "code",
   "execution_count": 2,
   "id": "85425553-f350-4ca3-b156-54542cc3645b",
   "metadata": {
    "tags": []
   },
   "outputs": [],
   "source": [
    "load_dotenv('.env', override=True)\n",
    "NEO4J_URI = os.getenv('NEO4J_URI')\n",
    "NEO4J_USERNAME = os.getenv('NEO4J_USERNAME')\n",
    "NEO4J_PASSWORD = os.getenv('NEO4J_PASSWORD')\n",
    "NEO4J_DATABASE = os.getenv('NEO4J_DATABASE')"
   ]
  },
  {
   "cell_type": "code",
   "execution_count": 3,
   "id": "501070b4-82bb-4634-9292-048dd9e4264e",
   "metadata": {
    "tags": []
   },
   "outputs": [],
   "source": [
    "kg = Neo4jGraph(\n",
    "    url=NEO4J_URI, username=NEO4J_USERNAME, password=NEO4J_PASSWORD, database=NEO4J_DATABASE\n",
    ")"
   ]
  },
  {
   "cell_type": "code",
   "execution_count": 4,
   "id": "16af39e4-8ce5-45f9-8ade-c744c1ee0ba8",
   "metadata": {
    "tags": []
   },
   "outputs": [
    {
     "data": {
      "text/plain": [
       "<langchain_community.graphs.neo4j_graph.Neo4jGraph at 0x7f55a4db6380>"
      ]
     },
     "execution_count": 4,
     "metadata": {},
     "output_type": "execute_result"
    }
   ],
   "source": [
    "kg"
   ]
  },
  {
   "cell_type": "code",
   "execution_count": 5,
   "id": "39cc5d06-492f-40c8-a058-ee6ce0b6e9a6",
   "metadata": {
    "tags": []
   },
   "outputs": [],
   "source": [
    "cypher = \"\"\"\n",
    "  MATCH (n) \n",
    "  RETURN count(n)\n",
    "  \"\"\""
   ]
  },
  {
   "cell_type": "markdown",
   "id": "dd0ab35c-1b53-4ea5-893c-a5e7de2eff63",
   "metadata": {},
   "source": [
    "# Lesson 2: Querying Knowledge Graphs with Cypher"
   ]
  },
  {
   "cell_type": "markdown",
   "id": "d8908473-2d71-4dc8-8f18-47eaec6373d8",
   "metadata": {},
   "source": [
    "### Import packages and set up Neo4"
   ]
  },
  {
   "cell_type": "code",
   "execution_count": 6,
   "id": "53ebdde3-be22-43fe-bd8e-ae2f9ebfcffb",
   "metadata": {
    "tags": []
   },
   "outputs": [],
   "source": [
    "from dotenv import load_dotenv\n",
    "import os\n",
    "\n",
    "from langchain_community.graphs import Neo4jGraph\n",
    "\n",
    "# Warning control\n",
    "import warnings\n",
    "warnings.filterwarnings(\"ignore\")"
   ]
  },
  {
   "cell_type": "code",
   "execution_count": 7,
   "id": "1f834675-50eb-40fc-b641-5458a364219c",
   "metadata": {
    "tags": []
   },
   "outputs": [],
   "source": [
    "load_dotenv('.env', override=True)\n",
    "NEO4J_URI = os.getenv('NEO4J_URI')\n",
    "NEO4J_USERNAME = os.getenv('NEO4J_USERNAME')\n",
    "NEO4J_PASSWORD = os.getenv('NEO4J_PASSWORD')\n",
    "NEO4J_DATABASE = os.getenv('NEO4J_DATABASE')"
   ]
  },
  {
   "cell_type": "markdown",
   "id": "a023e20a-53ff-4a50-82dc-a18e61c6f0aa",
   "metadata": {},
   "source": [
    "- Initialize a knowledge graph instance using LangChain's Neo4j integration"
   ]
  },
  {
   "cell_type": "code",
   "execution_count": 8,
   "id": "ffeabefe-4d24-44cc-8cc9-9f6906ac3fe6",
   "metadata": {
    "tags": []
   },
   "outputs": [],
   "source": [
    "kg = Neo4jGraph(\n",
    "    url=NEO4J_URI, username=NEO4J_USERNAME, password=NEO4J_PASSWORD, database=NEO4J_DATABASE\n",
    ")"
   ]
  },
  {
   "cell_type": "markdown",
   "id": "6b4cc7ea-bf6a-4d9a-8bdf-feb343ca4835",
   "metadata": {},
   "source": [
    "### Querying the movie knowledge graph \n",
    "- Match all nodes in the graph\n"
   ]
  },
  {
   "cell_type": "markdown",
   "id": "c6b7e1e4-5c34-4318-81ea-c81a40bd2b9f",
   "metadata": {},
   "source": [
    "#### ________"
   ]
  },
  {
   "cell_type": "code",
   "execution_count": 10,
   "id": "d982b445-fab3-4445-a827-66ddc9d3a0de",
   "metadata": {
    "tags": []
   },
   "outputs": [],
   "source": [
    "cypher = \"\"\"\n",
    "  MATCH (n) \n",
    "  RETURN count(n)\n",
    "  \"\"\""
   ]
  },
  {
   "cell_type": "code",
   "execution_count": 11,
   "id": "cf741229-2994-459c-9737-5291e350f8dd",
   "metadata": {
    "tags": []
   },
   "outputs": [
    {
     "data": {
      "text/plain": [
       "[{'count(n)': 171}]"
      ]
     },
     "execution_count": 11,
     "metadata": {},
     "output_type": "execute_result"
    }
   ],
   "source": [
    "result = kg.query(cypher)\n",
    "result"
   ]
  },
  {
   "cell_type": "code",
   "execution_count": 12,
   "id": "ae6be52b-6028-433e-b6b4-0d67fee602c9",
   "metadata": {
    "tags": []
   },
   "outputs": [],
   "source": [
    "cypher = \"\"\"\n",
    "  MATCH (n) \n",
    "  RETURN count(n) AS numberOfNodes\n",
    "  \"\"\""
   ]
  },
  {
   "cell_type": "code",
   "execution_count": 13,
   "id": "f0f7f4b3-799b-490f-a49c-7e23ca2356ef",
   "metadata": {
    "tags": []
   },
   "outputs": [
    {
     "data": {
      "text/plain": [
       "[{'numberOfNodes': 171}]"
      ]
     },
     "execution_count": 13,
     "metadata": {},
     "output_type": "execute_result"
    }
   ],
   "source": [
    "result = kg.query(cypher)\n",
    "result"
   ]
  },
  {
   "cell_type": "code",
   "execution_count": 14,
   "id": "17771e0c-05fe-4e27-a884-80ceae3162de",
   "metadata": {
    "tags": []
   },
   "outputs": [
    {
     "name": "stdout",
     "output_type": "stream",
     "text": [
      "There are 171 nodes in this graph.\n"
     ]
    }
   ],
   "source": [
    "print(f\"There are {result[0]['numberOfNodes']} nodes in this graph.\")"
   ]
  },
  {
   "cell_type": "markdown",
   "id": "b2588c0d-4ad4-4fe6-ae53-2f5b793407cc",
   "metadata": {},
   "source": [
    "#### ________"
   ]
  },
  {
   "cell_type": "markdown",
   "id": "0fbe8624-0005-44a9-8827-60babcc02e7e",
   "metadata": {
    "tags": []
   },
   "source": [
    "- Match only the `Movie` nodes by specifying the node label"
   ]
  },
  {
   "cell_type": "code",
   "execution_count": 15,
   "id": "2cdcb2c1-e3e5-462a-b788-72b8e0a37797",
   "metadata": {
    "tags": []
   },
   "outputs": [
    {
     "data": {
      "text/plain": [
       "[{'numberOfMovies': 38}]"
      ]
     },
     "execution_count": 15,
     "metadata": {},
     "output_type": "execute_result"
    }
   ],
   "source": [
    "cypher = \"\"\"\n",
    "  MATCH (n:Movie) \n",
    "  RETURN count(n) AS numberOfMovies\n",
    "  \"\"\"\n",
    "kg.query(cypher)"
   ]
  },
  {
   "cell_type": "markdown",
   "id": "d89cb507-6df6-43b0-bf6c-fcac9a133079",
   "metadata": {},
   "source": [
    "- Change the variable name in the node pattern match for improved readability"
   ]
  },
  {
   "cell_type": "code",
   "execution_count": 16,
   "id": "d2a5c2f5-b6f4-430f-ad6d-7c7ed10643e7",
   "metadata": {
    "tags": []
   },
   "outputs": [
    {
     "data": {
      "text/plain": [
       "[{'numberOfMovies': 38}]"
      ]
     },
     "execution_count": 16,
     "metadata": {},
     "output_type": "execute_result"
    }
   ],
   "source": [
    "cypher = \"\"\"\n",
    "  MATCH (m:Movie) \n",
    "  RETURN count(m) AS numberOfMovies\n",
    "  \"\"\"\n",
    "kg.query(cypher)"
   ]
  },
  {
   "cell_type": "markdown",
   "id": "3aae8b2c-ec1e-453d-bb45-42056edd4a9a",
   "metadata": {
    "tags": []
   },
   "source": [
    "#### ________"
   ]
  },
  {
   "cell_type": "markdown",
   "id": "f4c3990c-d6d0-4221-80e9-ed099b95955f",
   "metadata": {},
   "source": [
    "- Match only the `Person` nodes"
   ]
  },
  {
   "cell_type": "code",
   "execution_count": 17,
   "id": "e3d78c1d-cb82-42de-90c5-1479b50c69a6",
   "metadata": {
    "tags": []
   },
   "outputs": [
    {
     "data": {
      "text/plain": [
       "[{'numberOfPeople': 133}]"
      ]
     },
     "execution_count": 17,
     "metadata": {},
     "output_type": "execute_result"
    }
   ],
   "source": [
    "cypher = \"\"\"\n",
    "  MATCH (people:Person) \n",
    "  RETURN count(people) AS numberOfPeople\n",
    "  \"\"\"\n",
    "kg.query(cypher)"
   ]
  },
  {
   "cell_type": "markdown",
   "id": "4044d316-ec24-4c5f-bc92-bdd34f3bf244",
   "metadata": {},
   "source": [
    "- Match a single person by specifying the value of the `name` property on the `Person` node"
   ]
  },
  {
   "cell_type": "code",
   "execution_count": 18,
   "id": "0416f982-796b-4197-8fd7-f76c66da735c",
   "metadata": {
    "tags": []
   },
   "outputs": [
    {
     "data": {
      "text/plain": [
       "[{'tom': {'born': 1956, 'name': 'Tom Hanks'}}]"
      ]
     },
     "execution_count": 18,
     "metadata": {},
     "output_type": "execute_result"
    }
   ],
   "source": [
    "cypher = \"\"\"\n",
    "  MATCH (tom:Person {name:\"Tom Hanks\"}) \n",
    "  RETURN tom\n",
    "  \"\"\"\n",
    "kg.query(cypher)"
   ]
  },
  {
   "cell_type": "markdown",
   "id": "b7ec96f9-3d4a-4224-b6bd-52000d66e210",
   "metadata": {},
   "source": [
    "- Match a single `Movie` by specifying the value of the `title` property"
   ]
  },
  {
   "cell_type": "code",
   "execution_count": 19,
   "id": "9f60fc97-21c6-4bb7-ade7-b1633b18bb0b",
   "metadata": {
    "tags": []
   },
   "outputs": [
    {
     "data": {
      "text/plain": [
       "[{'cloudAtlas': {'tagline': 'Everything is connected',\n",
       "   'title': 'Cloud Atlas',\n",
       "   'released': 2012}}]"
      ]
     },
     "execution_count": 19,
     "metadata": {},
     "output_type": "execute_result"
    }
   ],
   "source": [
    "cypher = \"\"\"\n",
    "  MATCH (cloudAtlas:Movie {title:\"Cloud Atlas\"}) \n",
    "  RETURN cloudAtlas\n",
    "  \"\"\"\n",
    "kg.query(cypher)"
   ]
  },
  {
   "cell_type": "markdown",
   "id": "bab56ac9-5385-4788-94ab-a170d38243fa",
   "metadata": {
    "tags": []
   },
   "source": [
    "- Return only the `released` property of the matched `Movie` node"
   ]
  },
  {
   "cell_type": "code",
   "execution_count": 20,
   "id": "85fa7739-0bac-413b-b855-488be3145bfc",
   "metadata": {
    "tags": []
   },
   "outputs": [
    {
     "data": {
      "text/plain": [
       "[{'cloudAtlas.released': 2012}]"
      ]
     },
     "execution_count": 20,
     "metadata": {},
     "output_type": "execute_result"
    }
   ],
   "source": [
    "cypher = \"\"\"\n",
    "  MATCH (cloudAtlas:Movie {title:\"Cloud Atlas\"}) \n",
    "  RETURN cloudAtlas.released\n",
    "  \"\"\"\n",
    "kg.query(cypher)"
   ]
  },
  {
   "cell_type": "markdown",
   "id": "3eabfc2c-04bd-4179-bbbe-fb1815486fb4",
   "metadata": {
    "tags": []
   },
   "source": [
    "- Return two properties"
   ]
  },
  {
   "cell_type": "code",
   "execution_count": 21,
   "id": "6dad350f-b888-44cc-a970-73b58aeee92a",
   "metadata": {
    "tags": []
   },
   "outputs": [
    {
     "data": {
      "text/plain": [
       "[{'cloudAtlas.released': 2012,\n",
       "  'cloudAtlas.tagline': 'Everything is connected'}]"
      ]
     },
     "execution_count": 21,
     "metadata": {},
     "output_type": "execute_result"
    }
   ],
   "source": [
    "cypher = \"\"\"\n",
    "  MATCH (cloudAtlas:Movie {title:\"Cloud Atlas\"}) \n",
    "  RETURN cloudAtlas.released, cloudAtlas.tagline\n",
    "  \"\"\"\n",
    "kg.query(cypher)"
   ]
  },
  {
   "cell_type": "markdown",
   "id": "5d3afc1c-960e-4c4c-8923-33214e0e8e0f",
   "metadata": {},
   "source": [
    "### Cypher patterns with conditional matching"
   ]
  },
  {
   "cell_type": "code",
   "execution_count": 22,
   "id": "659cb847-d16b-4789-b618-179fe0ea8140",
   "metadata": {
    "tags": []
   },
   "outputs": [
    {
     "data": {
      "text/plain": [
       "[{'nineties.title': \"The Devil's Advocate\"},\n",
       " {'nineties.title': 'A Few Good Men'},\n",
       " {'nineties.title': 'As Good as It Gets'},\n",
       " {'nineties.title': 'What Dreams May Come'},\n",
       " {'nineties.title': 'Snow Falling on Cedars'},\n",
       " {'nineties.title': \"You've Got Mail\"},\n",
       " {'nineties.title': 'Sleepless in Seattle'},\n",
       " {'nineties.title': 'Joe Versus the Volcano'},\n",
       " {'nineties.title': 'When Harry Met Sally'},\n",
       " {'nineties.title': 'That Thing You Do'},\n",
       " {'nineties.title': 'The Birdcage'},\n",
       " {'nineties.title': 'Unforgiven'},\n",
       " {'nineties.title': 'Johnny Mnemonic'},\n",
       " {'nineties.title': 'The Green Mile'},\n",
       " {'nineties.title': 'Hoffa'},\n",
       " {'nineties.title': 'Apollo 13'},\n",
       " {'nineties.title': 'Twister'},\n",
       " {'nineties.title': 'Bicentennial Man'},\n",
       " {'nineties.title': 'A League of Their Own'},\n",
       " {'nineties.title': 'The Matrix'}]"
      ]
     },
     "execution_count": 22,
     "metadata": {},
     "output_type": "execute_result"
    }
   ],
   "source": [
    "cypher = \"\"\"\n",
    "  MATCH (nineties:Movie) \n",
    "  WHERE nineties.released >= 1990 \n",
    "    AND nineties.released < 2000 \n",
    "  RETURN nineties.title\n",
    "  \"\"\"\n",
    "\n",
    "\n",
    "kg.query(cypher)"
   ]
  },
  {
   "cell_type": "markdown",
   "id": "4a6575ef-e177-4b14-bdc3-91f121bd694c",
   "metadata": {},
   "source": [
    "### Pattern matching with multiple nodes"
   ]
  },
  {
   "cell_type": "code",
   "execution_count": 23,
   "id": "5dc45b99-08fd-4ab4-82c2-a64b375c3873",
   "metadata": {
    "tags": []
   },
   "outputs": [
    {
     "data": {
      "text/plain": [
       "[{'p.name': 'Carrie-Anne Moss'},\n",
       " {'p.name': 'Laurence Fishburne'},\n",
       " {'p.name': 'Hugo Weaving'},\n",
       " {'p.name': 'Lilly Wachowski'},\n",
       " {'p.name': 'Lana Wachowski'},\n",
       " {'p.name': 'Joel Silver'},\n",
       " {'p.name': 'Emil Eifrem'},\n",
       " {'p.name': 'Charlize Theron'},\n",
       " {'p.name': 'Al Pacino'},\n",
       " {'p.name': 'Taylor Hackford'}]"
      ]
     },
     "execution_count": 23,
     "metadata": {},
     "output_type": "execute_result"
    }
   ],
   "source": [
    "cypher = \"\"\"\n",
    "    MATCH (p:Person)\n",
    "    RETURN p.name LIMIT 10\n",
    "  \"\"\"\n",
    "kg.query(cypher)"
   ]
  },
  {
   "cell_type": "code",
   "execution_count": 24,
   "id": "c1eed021-943e-476d-9d65-5cc56fab2c92",
   "metadata": {
    "tags": []
   },
   "outputs": [
    {
     "data": {
      "text/plain": [
       "[{'actor.name': 'Carrie-Anne Moss', 'movie.title': 'The Matrix Reloaded'},\n",
       " {'actor.name': 'Laurence Fishburne', 'movie.title': 'The Matrix Reloaded'},\n",
       " {'actor.name': 'Hugo Weaving', 'movie.title': 'The Matrix Reloaded'},\n",
       " {'actor.name': 'Keanu Reeves', 'movie.title': 'The Matrix Reloaded'},\n",
       " {'actor.name': 'Carrie-Anne Moss', 'movie.title': 'The Matrix Revolutions'},\n",
       " {'actor.name': 'Laurence Fishburne', 'movie.title': 'The Matrix Revolutions'},\n",
       " {'actor.name': 'Hugo Weaving', 'movie.title': 'The Matrix Revolutions'},\n",
       " {'actor.name': 'Keanu Reeves', 'movie.title': 'The Matrix Revolutions'},\n",
       " {'actor.name': 'Charlize Theron', 'movie.title': \"The Devil's Advocate\"},\n",
       " {'actor.name': 'Al Pacino', 'movie.title': \"The Devil's Advocate\"}]"
      ]
     },
     "execution_count": 24,
     "metadata": {},
     "output_type": "execute_result"
    }
   ],
   "source": [
    "cypher = \"\"\"\n",
    "  MATCH (actor:Person)-[:ACTED_IN]->(movie:Movie) \n",
    "  RETURN actor.name, movie.title LIMIT 10\n",
    "  \"\"\"\n",
    "kg.query(cypher)"
   ]
  },
  {
   "cell_type": "code",
   "execution_count": 25,
   "id": "648e3234-7dd6-4a93-bcb8-176ef8551891",
   "metadata": {
    "tags": []
   },
   "outputs": [
    {
     "data": {
      "text/plain": [
       "[{'tom.name': 'Tom Hanks', 'tomHanksMovies.title': \"You've Got Mail\"},\n",
       " {'tom.name': 'Tom Hanks', 'tomHanksMovies.title': 'Sleepless in Seattle'},\n",
       " {'tom.name': 'Tom Hanks', 'tomHanksMovies.title': 'Joe Versus the Volcano'},\n",
       " {'tom.name': 'Tom Hanks', 'tomHanksMovies.title': 'That Thing You Do'},\n",
       " {'tom.name': 'Tom Hanks', 'tomHanksMovies.title': 'Cloud Atlas'},\n",
       " {'tom.name': 'Tom Hanks', 'tomHanksMovies.title': 'The Da Vinci Code'},\n",
       " {'tom.name': 'Tom Hanks', 'tomHanksMovies.title': 'The Green Mile'},\n",
       " {'tom.name': 'Tom Hanks', 'tomHanksMovies.title': 'Apollo 13'},\n",
       " {'tom.name': 'Tom Hanks', 'tomHanksMovies.title': 'Cast Away'},\n",
       " {'tom.name': 'Tom Hanks', 'tomHanksMovies.title': \"Charlie Wilson's War\"},\n",
       " {'tom.name': 'Tom Hanks', 'tomHanksMovies.title': 'The Polar Express'},\n",
       " {'tom.name': 'Tom Hanks', 'tomHanksMovies.title': 'A League of Their Own'}]"
      ]
     },
     "execution_count": 25,
     "metadata": {},
     "output_type": "execute_result"
    }
   ],
   "source": [
    "cypher = \"\"\"\n",
    "  MATCH (tom:Person {name: \"Tom Hanks\"})-[:ACTED_IN]->(tomHanksMovies:Movie) \n",
    "  RETURN tom.name,tomHanksMovies.title\n",
    "  \"\"\"\n",
    "kg.query(cypher)"
   ]
  },
  {
   "cell_type": "code",
   "execution_count": 26,
   "id": "1a522245-bf85-4a12-a5b7-5daf5d2824b1",
   "metadata": {
    "tags": []
   },
   "outputs": [
    {
     "data": {
      "text/plain": [
       "[{'coActors.name': 'Meg Ryan', 'm.title': \"You've Got Mail\"},\n",
       " {'coActors.name': 'Greg Kinnear', 'm.title': \"You've Got Mail\"},\n",
       " {'coActors.name': 'Parker Posey', 'm.title': \"You've Got Mail\"},\n",
       " {'coActors.name': 'Dave Chappelle', 'm.title': \"You've Got Mail\"},\n",
       " {'coActors.name': 'Steve Zahn', 'm.title': \"You've Got Mail\"},\n",
       " {'coActors.name': 'Meg Ryan', 'm.title': 'Sleepless in Seattle'},\n",
       " {'coActors.name': 'Rita Wilson', 'm.title': 'Sleepless in Seattle'},\n",
       " {'coActors.name': 'Bill Pullman', 'm.title': 'Sleepless in Seattle'},\n",
       " {'coActors.name': 'Victor Garber', 'm.title': 'Sleepless in Seattle'},\n",
       " {'coActors.name': \"Rosie O'Donnell\", 'm.title': 'Sleepless in Seattle'},\n",
       " {'coActors.name': 'Meg Ryan', 'm.title': 'Joe Versus the Volcano'},\n",
       " {'coActors.name': 'Nathan Lane', 'm.title': 'Joe Versus the Volcano'},\n",
       " {'coActors.name': 'Charlize Theron', 'm.title': 'That Thing You Do'},\n",
       " {'coActors.name': 'Liv Tyler', 'm.title': 'That Thing You Do'},\n",
       " {'coActors.name': 'Hugo Weaving', 'm.title': 'Cloud Atlas'},\n",
       " {'coActors.name': 'Halle Berry', 'm.title': 'Cloud Atlas'},\n",
       " {'coActors.name': 'Jim Broadbent', 'm.title': 'Cloud Atlas'},\n",
       " {'coActors.name': 'Ian McKellen', 'm.title': 'The Da Vinci Code'},\n",
       " {'coActors.name': 'Audrey Tautou', 'm.title': 'The Da Vinci Code'},\n",
       " {'coActors.name': 'Paul Bettany', 'm.title': 'The Da Vinci Code'},\n",
       " {'coActors.name': 'Bonnie Hunt', 'm.title': 'The Green Mile'},\n",
       " {'coActors.name': 'James Cromwell', 'm.title': 'The Green Mile'},\n",
       " {'coActors.name': 'Michael Clarke Duncan', 'm.title': 'The Green Mile'},\n",
       " {'coActors.name': 'David Morse', 'm.title': 'The Green Mile'},\n",
       " {'coActors.name': 'Sam Rockwell', 'm.title': 'The Green Mile'},\n",
       " {'coActors.name': 'Gary Sinise', 'm.title': 'The Green Mile'},\n",
       " {'coActors.name': 'Patricia Clarkson', 'm.title': 'The Green Mile'},\n",
       " {'coActors.name': 'Kevin Bacon', 'm.title': 'Apollo 13'},\n",
       " {'coActors.name': 'Gary Sinise', 'm.title': 'Apollo 13'},\n",
       " {'coActors.name': 'Ed Harris', 'm.title': 'Apollo 13'},\n",
       " {'coActors.name': 'Bill Paxton', 'm.title': 'Apollo 13'},\n",
       " {'coActors.name': 'Helen Hunt', 'm.title': 'Cast Away'},\n",
       " {'coActors.name': 'Philip Seymour Hoffman',\n",
       "  'm.title': \"Charlie Wilson's War\"},\n",
       " {'coActors.name': 'Julia Roberts', 'm.title': \"Charlie Wilson's War\"},\n",
       " {'coActors.name': \"Rosie O'Donnell\", 'm.title': 'A League of Their Own'},\n",
       " {'coActors.name': 'Bill Paxton', 'm.title': 'A League of Their Own'},\n",
       " {'coActors.name': 'Madonna', 'm.title': 'A League of Their Own'},\n",
       " {'coActors.name': 'Geena Davis', 'm.title': 'A League of Their Own'},\n",
       " {'coActors.name': 'Lori Petty', 'm.title': 'A League of Their Own'}]"
      ]
     },
     "execution_count": 26,
     "metadata": {},
     "output_type": "execute_result"
    }
   ],
   "source": [
    "cypher = \"\"\"\n",
    "  MATCH (tom:Person {name:\"Tom Hanks\"})-[:ACTED_IN]->(m)<-[:ACTED_IN]-(coActors) \n",
    "  RETURN coActors.name, m.title\n",
    "  \"\"\"\n",
    "kg.query(cypher)"
   ]
  },
  {
   "cell_type": "markdown",
   "id": "ec34fbe9-0df9-452d-bfc1-09c0edfa30ce",
   "metadata": {},
   "source": [
    "### Delete data from the graph"
   ]
  },
  {
   "cell_type": "code",
   "execution_count": 29,
   "id": "42972166-20e4-4b2b-b36f-5b90ce8aa57a",
   "metadata": {
    "tags": []
   },
   "outputs": [
    {
     "data": {
      "text/plain": [
       "[]"
      ]
     },
     "execution_count": 29,
     "metadata": {},
     "output_type": "execute_result"
    }
   ],
   "source": [
    "cypher = \"\"\"\n",
    "MATCH (emil:Person {name:\"Emil Eifrem\"})-[actedIn:ACTED_IN]->(movie:Movie)\n",
    "RETURN emil.name, movie.title\n",
    "\"\"\"\n",
    "kg.query(cypher)"
   ]
  },
  {
   "cell_type": "code",
   "execution_count": 28,
   "id": "a942a456-33f1-44c8-bf06-29811927837a",
   "metadata": {},
   "outputs": [
    {
     "data": {
      "text/plain": [
       "[]"
      ]
     },
     "execution_count": 28,
     "metadata": {},
     "output_type": "execute_result"
    }
   ],
   "source": [
    "cypher = \"\"\"\n",
    "MATCH (emil:Person {name:\"Emil Eifrem\"})-[actedIn:ACTED_IN]->(movie:Movie)\n",
    "DELETE actedIn\n",
    "\"\"\"\n",
    "kg.query(cypher)"
   ]
  },
  {
   "cell_type": "markdown",
   "id": "c3a9dc7b-b208-451e-bfae-23c64f4b394d",
   "metadata": {},
   "source": [
    "### Adding data to the graph"
   ]
  },
  {
   "cell_type": "code",
   "execution_count": 30,
   "id": "ec3524e6-df22-473c-8fef-b68eaf248fa7",
   "metadata": {},
   "outputs": [
    {
     "data": {
      "text/plain": [
       "[{'andreas': {'name': 'Andreas'}}]"
      ]
     },
     "execution_count": 30,
     "metadata": {},
     "output_type": "execute_result"
    }
   ],
   "source": [
    "cypher = \"\"\"\n",
    "CREATE (andreas:Person {name:\"Andreas\"})\n",
    "RETURN andreas\n",
    "\"\"\"\n",
    "\n",
    "kg.query(cypher)"
   ]
  },
  {
   "cell_type": "code",
   "execution_count": 31,
   "id": "10b465cd-bec8-48d5-a5e0-1fe1d069658e",
   "metadata": {},
   "outputs": [
    {
     "data": {
      "text/plain": [
       "[{'andreas': {'name': 'Andreas'},\n",
       "  'hasRelationship': ({'name': 'Andreas'},\n",
       "   'WORKS_WITH',\n",
       "   {'born': 1978, 'name': 'Emil Eifrem'}),\n",
       "  'emil': {'born': 1978, 'name': 'Emil Eifrem'}}]"
      ]
     },
     "execution_count": 31,
     "metadata": {},
     "output_type": "execute_result"
    }
   ],
   "source": [
    "cypher = \"\"\"\n",
    "MATCH (andreas:Person {name:\"Andreas\"}), (emil:Person {name:\"Emil Eifrem\"})\n",
    "MERGE (andreas)-[hasRelationship:WORKS_WITH]->(emil)\n",
    "RETURN andreas, hasRelationship, emil\n",
    "\"\"\"\n",
    "kg.query(cypher)"
   ]
  },
  {
   "cell_type": "code",
   "execution_count": null,
   "id": "5ec42c45-0393-4f8a-9106-2a780540e3d4",
   "metadata": {},
   "outputs": [],
   "source": []
  }
 ],
 "metadata": {
  "environment": {
   "kernel": "conda-root-py",
   "name": "workbench-notebooks.m113",
   "type": "gcloud",
   "uri": "gcr.io/deeplearning-platform-release/workbench-notebooks:m113"
  },
  "kernelspec": {
   "display_name": "Python 3 (ipykernel) (Local)",
   "language": "python",
   "name": "conda-root-py"
  },
  "language_info": {
   "codemirror_mode": {
    "name": "ipython",
    "version": 3
   },
   "file_extension": ".py",
   "mimetype": "text/x-python",
   "name": "python",
   "nbconvert_exporter": "python",
   "pygments_lexer": "ipython3",
   "version": "3.10.13"
  }
 },
 "nbformat": 4,
 "nbformat_minor": 5
}
