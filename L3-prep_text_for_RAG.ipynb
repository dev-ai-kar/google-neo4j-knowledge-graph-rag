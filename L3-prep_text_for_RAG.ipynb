{
 "cells": [
  {
   "cell_type": "markdown",
   "id": "b8e2a3fb-cc4d-4f8d-8f78-97415e849416",
   "metadata": {},
   "source": [
    "# Lesson 3: Preparing Text Data for RAG"
   ]
  },
  {
   "cell_type": "code",
   "execution_count": null,
   "id": "4b9acc8f-c951-40a3-acc5-22f61924ab87",
   "metadata": {},
   "outputs": [],
   "source": []
  },
  {
   "cell_type": "code",
   "execution_count": null,
   "id": "ed217050-621e-4a0f-84dc-01165fabcdc8",
   "metadata": {},
   "outputs": [],
   "source": [
    "# Restart kernel after installs so that your environment can access the new packages\n",
    "import IPython\n",
    "\n",
    "app = IPython.Application.instance()\n",
    "app.kernel.do_shutdown(True)"
   ]
  },
  {
   "cell_type": "markdown",
   "id": "3d83e797-5a72-46de-a5f4-b22a35cbbce9",
   "metadata": {},
   "source": [
    "### Environment variables\n",
    "Sets environment variables. If asked, please replace the following [your-project-id] with your project ID and run it."
   ]
  },
  {
   "cell_type": "code",
   "execution_count": 1,
   "id": "d3fbe367-6beb-491d-8792-cf21f173a562",
   "metadata": {
    "tags": []
   },
   "outputs": [],
   "source": [
    "# get project ID\n",
    "PROJECT_ID = ! gcloud config get project\n",
    "PROJECT_ID = PROJECT_ID[0]\n",
    "\n",
    "ACCESS_TOKEN = !gcloud auth print-access-token\n",
    "ACCESS_TOKEN = ACCESS_TOKEN[0]\n",
    "\n",
    "EMBEDDING_MODEL = \"textembedding-gecko@002\"\n",
    "\n",
    "LOCATION = \"us-central1\"\n",
    "\n",
    "if PROJECT_ID == \"(unset)\":\n",
    "    print(f\"Please set the project ID manually below\")"
   ]
  },
  {
   "cell_type": "code",
   "execution_count": 2,
   "id": "eecfd12e-6064-431c-8a18-ca1a7768aaed",
   "metadata": {
    "tags": []
   },
   "outputs": [
    {
     "data": {
      "text/plain": [
       "'gpeg-oe-platform'"
      ]
     },
     "execution_count": 2,
     "metadata": {},
     "output_type": "execute_result"
    }
   ],
   "source": [
    "PROJECT_ID"
   ]
  },
  {
   "cell_type": "code",
   "execution_count": 3,
   "id": "51227c06-97d7-4867-9403-1654935af50e",
   "metadata": {
    "tags": []
   },
   "outputs": [
    {
     "data": {
      "text/plain": [
       "'ya29.c.c0AY_VpZg63Zv_jESMUvEJV3P8WTFbBlwzxULP7bF3iN0a-kWDeP0y54izBYLP7fqoLXP9uX_0hoN5IotlCtW3uQACLrw59abeQmDS94COuEhYxMO_QzGOnjOvdckVFT7BY7YCJvG6W_NZ7uZ5jnWCy1AalWRY-jRJb67GO1WpLy5zBVAKF-U61gaROmi74GJtHVI-u2UmMTLTtkq0WQPhkVj4_XddrVvnNijiQZSsleM3jFWni2kqfNw094JovBcsT3WLgoBYlGVLHL63EBrVcsyx4LMZRgDWYFWG4UitR0aGmCYAuEhjrMsdVpasKxvHkl_Q5MopHDLNFze9u41b3zxz7odKAnNvKLd66VE6PXx_ojQm31A0o0hcjK81g_6V7GoG396DZu2mQa-Feohnl9FtZj2XaXW-R6SZaS39-xFvIqOBfJ0-2uo4n4Oz3o6y2WrnzO22gR7SWRJ6RX_ziaq6cVak4ea2OzS_0qg9joBFznJW8YXtju_iFQXvmMhrqFsc9B17_gV6uBoJhej9xpg5s6g795wZdch6Rmi3txZpRsaYz3iIeSt0hOstl6t6hllQBQedq0O6fl9nmv1804y-gScfygyO47XZnfd6aauRQiWijitrU5gj1osx3qIVtVgk7WQSge8OZW3ilk5wVtyiYZ502ZjycrJY-J1-_78FMewgcJz0BuISqmVnowcQZc9dhivgMkXx9g8j5oY1UafSdq47nMhSp06nFRIeB31a78dIWlW9ey5rdrpJ_zZ2022Ua-Igq6vihJtktFRnZIbBW19Waw3zQnj01ZpX1v9ot769Ru0zY-qOvZyvF1iYjBQUxh3yFRRetXq-MpfZMB5XmhRVIWQJIvkJQ6s-StabpYFVBxy_5iYV48z0B3qhWqkvh4IFwnOgaj9XiVh7Rliz-wg17S-7JxmWQsJXf40y9UrcV34m7kxxsY-87bnFSwiI1MbesjQZvk1h27Z4FFxfqo6yfxkVrRjSOtSRRhOSFBu6_Imzo6Y'"
      ]
     },
     "execution_count": 3,
     "metadata": {},
     "output_type": "execute_result"
    }
   ],
   "source": [
    "ACCESS_TOKEN"
   ]
  },
  {
   "cell_type": "markdown",
   "id": "b10253bc-aa12-4527-be5f-dc2440f545b9",
   "metadata": {},
   "source": [
    "### Authentication (Colab only)\n",
    "If you are running this notebook on Colab, you will need to run the following cell authentication. This step is not required if you are using Vertex AI Workbench as it is pre-authenticated."
   ]
  },
  {
   "cell_type": "code",
   "execution_count": null,
   "id": "f54a60cd-2b1e-42d3-8319-5fac85ade363",
   "metadata": {
    "tags": []
   },
   "outputs": [],
   "source": [
    "import sys\n",
    "\n",
    "# if it's Colab runtime, authenticate the user with Google Cloud\n",
    "if \"google.colab\" in sys.modules:\n",
    "    from google.colab import auth\n",
    "\n",
    "    auth.authenticate_user()"
   ]
  },
  {
   "cell_type": "markdown",
   "id": "fafb0f88-0b26-4cdf-9b55-7ce191652155",
   "metadata": {},
   "source": [
    "<p style=\"background-color:#fd4a6180; padding:15px; margin-left:20px\"> ⚠️ The kernel is going to restart. Please wait until it is finished before continuing to the next step. ⚠️<b>Note:</b> This notebook takes about 30 seconds to be ready to use. Please wait until the \"Kernel starting, please wait...\" </p>\n"
   ]
  },
  {
   "cell_type": "code",
   "execution_count": 4,
   "id": "29e2255a-21b3-43c3-8dd1-6fdf8834504b",
   "metadata": {
    "tags": []
   },
   "outputs": [],
   "source": [
    "# init the vertexai package\n",
    "import vertexai\n",
    "\n",
    "vertexai.init(project=PROJECT_ID, location=LOCATION)"
   ]
  },
  {
   "cell_type": "markdown",
   "id": "9fb43372-7cff-4dc6-8c47-2885aac4c09a",
   "metadata": {},
   "source": [
    "### Import packages and set up Neo4j"
   ]
  },
  {
   "cell_type": "code",
   "execution_count": 5,
   "id": "e854e1a7-6c56-48e9-b3f0-999b68940726",
   "metadata": {
    "height": 149,
    "tags": []
   },
   "outputs": [],
   "source": [
    "from dotenv import load_dotenv\n",
    "import os\n",
    "\n",
    "from langchain_community.graphs import Neo4jGraph\n",
    "\n",
    "# Warning control\n",
    "import warnings\n",
    "warnings.filterwarnings(\"ignore\")"
   ]
  },
  {
   "cell_type": "code",
   "execution_count": 6,
   "id": "2270f202-d1b4-4acc-a8ee-f161c3605158",
   "metadata": {
    "height": 217,
    "tags": []
   },
   "outputs": [],
   "source": [
    "# Load from environment\n",
    "load_dotenv('.env', override=True)\n",
    "NEO4J_URI = os.getenv('NEO4J_URI')\n",
    "NEO4J_USERNAME = os.getenv('NEO4J_USERNAME')\n",
    "NEO4J_PASSWORD = os.getenv('NEO4J_PASSWORD')\n",
    "NEO4J_DATABASE = os.getenv('NEO4J_DATABASE')\n",
    "OPENAI_API_KEY = os.getenv('OPENAI_API_KEY')"
   ]
  },
  {
   "cell_type": "code",
   "execution_count": 7,
   "id": "869e6501-5c0b-4adf-a43c-e26715523d49",
   "metadata": {
    "height": 217,
    "tags": []
   },
   "outputs": [],
   "source": [
    "# Note the code below is unique to this course environment, and not a \n",
    "# standard part of Neo4j's integration with OpenAI. Remove if running \n",
    "# in your own environment.\n",
    "# OPENAI_ENDPOINT = os.getenv('OPENAI_BASE_URL') + '/embeddings'"
   ]
  },
  {
   "cell_type": "code",
   "execution_count": 8,
   "id": "0c277dd6-23b9-42d0-9d2a-c6aa9948dad9",
   "metadata": {
    "height": 81,
    "tags": []
   },
   "outputs": [],
   "source": [
    "# Connect to the knowledge graph instance using LangChain\n",
    "kg = Neo4jGraph(\n",
    "    url=NEO4J_URI, username=NEO4J_USERNAME, password=NEO4J_PASSWORD, database=NEO4J_DATABASE\n",
    ")"
   ]
  },
  {
   "cell_type": "markdown",
   "id": "b4478433-1ab7-4ad6-ba51-73d54e45d798",
   "metadata": {},
   "source": [
    "### Create a vector index "
   ]
  },
  {
   "cell_type": "code",
   "execution_count": 9,
   "id": "abb1ff58-08c3-4cc5-bdde-b6905ad5ad88",
   "metadata": {
    "tags": []
   },
   "outputs": [
    {
     "data": {
      "text/plain": [
       "[]"
      ]
     },
     "execution_count": 9,
     "metadata": {},
     "output_type": "execute_result"
    }
   ],
   "source": [
    "kg.query(\"\"\"\n",
    "    CREATE VECTOR INDEX movie_tagline_embeddings IF NOT EXISTS\n",
    "    FOR (m:Movie) ON (m.taglineEmbedding) \n",
    "    OPTIONS { indexConfig: {\n",
    "        `vector.dimensions`: 768,\n",
    "        `vector.similarity_function`: 'cosine'    \n",
    "    }}\n",
    "\"\"\")"
   ]
  },
  {
   "cell_type": "code",
   "execution_count": 10,
   "id": "9472ede6-18da-4d13-a5de-0dbad618c0f3",
   "metadata": {
    "height": 81,
    "tags": []
   },
   "outputs": [
    {
     "data": {
      "text/plain": [
       "[{'id': 9,\n",
       "  'name': 'form_10k_chunks',\n",
       "  'state': 'ONLINE',\n",
       "  'populationPercent': 100.0,\n",
       "  'type': 'VECTOR',\n",
       "  'entityType': 'NODE',\n",
       "  'labelsOrTypes': ['Chunk'],\n",
       "  'properties': ['textEmbedding'],\n",
       "  'indexProvider': 'vector-2.0',\n",
       "  'owningConstraint': None,\n",
       "  'lastRead': neo4j.time.DateTime(2024, 5, 10, 9, 42, 41, 727000000, tzinfo=<UTC>),\n",
       "  'readCount': 44},\n",
       " {'id': 6,\n",
       "  'name': 'movie_tagline_embeddings',\n",
       "  'state': 'ONLINE',\n",
       "  'populationPercent': 100.0,\n",
       "  'type': 'VECTOR',\n",
       "  'entityType': 'NODE',\n",
       "  'labelsOrTypes': ['Movie'],\n",
       "  'properties': ['taglineEmbedding'],\n",
       "  'indexProvider': 'vector-2.0',\n",
       "  'owningConstraint': None,\n",
       "  'lastRead': neo4j.time.DateTime(2024, 5, 8, 9, 10, 22, 26000000, tzinfo=<UTC>),\n",
       "  'readCount': 2}]"
      ]
     },
     "execution_count": 10,
     "metadata": {},
     "output_type": "execute_result"
    }
   ],
   "source": [
    "kg.query(\"\"\"\n",
    "  SHOW VECTOR INDEXES\n",
    "  \"\"\"\n",
    ")"
   ]
  },
  {
   "cell_type": "markdown",
   "id": "ebe87478-723a-49e4-a197-b4cccd7153b0",
   "metadata": {},
   "source": [
    "### Populate the vector index\n",
    "- Calculate vector representation for each movie tagline using Vertex AI\n",
    "- Add vector to the `Movie` node as `taglineEmbedding` property"
   ]
  },
  {
   "cell_type": "code",
   "execution_count": 11,
   "id": "0b04d05f-50f3-4138-be6c-af1321a4e9b7",
   "metadata": {
    "tags": []
   },
   "outputs": [
    {
     "data": {
      "text/plain": [
       "[]"
      ]
     },
     "execution_count": 11,
     "metadata": {},
     "output_type": "execute_result"
    }
   ],
   "source": [
    "## POPULATE INDEX\n",
    "\n",
    "kg.query(\"\"\"\n",
    "    MATCH (movie:Movie) WHERE movie.tagline IS NOT NULL\n",
    "    WITH movie, genai.vector.encode(\n",
    "      movie.tagline, \n",
    "      \"VertexAI\",\n",
    "      {\n",
    "        token: $token,      \n",
    "        projectId: $projectId,\n",
    "        model: $embedding_model\n",
    "      })AS vector\n",
    "    CALL db.create.setNodeVectorProperty(movie, \"taglineEmbedding\", vector)\n",
    "    \"\"\",\n",
    "    params={\"token\":ACCESS_TOKEN, \"projectId\": PROJECT_ID, \"embedding_model\": EMBEDDING_MODEL} )"
   ]
  },
  {
   "cell_type": "code",
   "execution_count": 12,
   "id": "73efe0c6-d3e9-4815-9154-04f177101f17",
   "metadata": {
    "height": 132,
    "tags": []
   },
   "outputs": [],
   "source": [
    "result = kg.query(\"\"\"\n",
    "    MATCH (m:Movie) \n",
    "    WHERE m.tagline IS NOT NULL\n",
    "    RETURN m.tagline, m.taglineEmbedding\n",
    "    LIMIT 1\n",
    "    \"\"\"\n",
    ")"
   ]
  },
  {
   "cell_type": "code",
   "execution_count": 13,
   "id": "71f4fe0b-01da-493f-862b-36a60842d648",
   "metadata": {
    "height": 30,
    "tags": []
   },
   "outputs": [
    {
     "data": {
      "text/plain": [
       "'Free your mind'"
      ]
     },
     "execution_count": 13,
     "metadata": {},
     "output_type": "execute_result"
    }
   ],
   "source": [
    "result[0]['m.tagline']"
   ]
  },
  {
   "cell_type": "code",
   "execution_count": 14,
   "id": "93c3fe17-7310-4e11-84c3-4955c8ed8f1a",
   "metadata": {
    "height": 30,
    "tags": []
   },
   "outputs": [
    {
     "data": {
      "text/plain": [
       "[0.017995720729231834,\n",
       " 0.010906558483839035,\n",
       " -0.012228431180119514,\n",
       " 0.016306528821587563,\n",
       " 0.017122313380241394,\n",
       " 0.024987483397126198,\n",
       " -0.013222266919910908,\n",
       " 0.018318042159080505,\n",
       " -0.034899428486824036,\n",
       " 0.021264759823679924]"
      ]
     },
     "execution_count": 14,
     "metadata": {},
     "output_type": "execute_result"
    }
   ],
   "source": [
    "result[0]['m.taglineEmbedding'][:10]"
   ]
  },
  {
   "cell_type": "code",
   "execution_count": 15,
   "id": "221af96b-63ce-4a95-8d23-47f9aa8c3a4e",
   "metadata": {
    "height": 30,
    "tags": []
   },
   "outputs": [
    {
     "data": {
      "text/plain": [
       "768"
      ]
     },
     "execution_count": 15,
     "metadata": {},
     "output_type": "execute_result"
    }
   ],
   "source": [
    "len(result[0]['m.taglineEmbedding'])"
   ]
  },
  {
   "cell_type": "code",
   "execution_count": null,
   "id": "03365be1-4aaa-4440-bbc5-0df650fd9013",
   "metadata": {
    "height": 30
   },
   "outputs": [],
   "source": []
  },
  {
   "cell_type": "markdown",
   "id": "790b238d-9189-4111-962b-1bf3dfcdad05",
   "metadata": {},
   "source": [
    "### Similarity search\n",
    "- Calculate embedding for question\n",
    "- Identify matching movies based on similarity of question and `taglineEmbedding` vectors"
   ]
  },
  {
   "cell_type": "code",
   "execution_count": 16,
   "id": "9ace9d8c-a2bb-47f4-a40d-2239e811e418",
   "metadata": {
    "tags": []
   },
   "outputs": [
    {
     "data": {
      "text/plain": [
       "'ya29.c.c0AY_VpZg63Zv_jESMUvEJV3P8WTFbBlwzxULP7bF3iN0a-kWDeP0y54izBYLP7fqoLXP9uX_0hoN5IotlCtW3uQACLrw59abeQmDS94COuEhYxMO_QzGOnjOvdckVFT7BY7YCJvG6W_NZ7uZ5jnWCy1AalWRY-jRJb67GO1WpLy5zBVAKF-U61gaROmi74GJtHVI-u2UmMTLTtkq0WQPhkVj4_XddrVvnNijiQZSsleM3jFWni2kqfNw094JovBcsT3WLgoBYlGVLHL63EBrVcsyx4LMZRgDWYFWG4UitR0aGmCYAuEhjrMsdVpasKxvHkl_Q5MopHDLNFze9u41b3zxz7odKAnNvKLd66VE6PXx_ojQm31A0o0hcjK81g_6V7GoG396DZu2mQa-Feohnl9FtZj2XaXW-R6SZaS39-xFvIqOBfJ0-2uo4n4Oz3o6y2WrnzO22gR7SWRJ6RX_ziaq6cVak4ea2OzS_0qg9joBFznJW8YXtju_iFQXvmMhrqFsc9B17_gV6uBoJhej9xpg5s6g795wZdch6Rmi3txZpRsaYz3iIeSt0hOstl6t6hllQBQedq0O6fl9nmv1804y-gScfygyO47XZnfd6aauRQiWijitrU5gj1osx3qIVtVgk7WQSge8OZW3ilk5wVtyiYZ502ZjycrJY-J1-_78FMewgcJz0BuISqmVnowcQZc9dhivgMkXx9g8j5oY1UafSdq47nMhSp06nFRIeB31a78dIWlW9ey5rdrpJ_zZ2022Ua-Igq6vihJtktFRnZIbBW19Waw3zQnj01ZpX1v9ot769Ru0zY-qOvZyvF1iYjBQUxh3yFRRetXq-MpfZMB5XmhRVIWQJIvkJQ6s-StabpYFVBxy_5iYV48z0B3qhWqkvh4IFwnOgaj9XiVh7Rliz-wg17S-7JxmWQsJXf40y9UrcV34m7kxxsY-87bnFSwiI1MbesjQZvk1h27Z4FFxfqo6yfxkVrRjSOtSRRhOSFBu6_Imzo6Y'"
      ]
     },
     "execution_count": 16,
     "metadata": {},
     "output_type": "execute_result"
    }
   ],
   "source": [
    "ACCESS_TOKEN"
   ]
  },
  {
   "cell_type": "code",
   "execution_count": 18,
   "id": "5648d30a-ab89-4fa1-ad61-35bbb43ef102",
   "metadata": {
    "height": 30,
    "tags": []
   },
   "outputs": [],
   "source": [
    "question = \"What movies are about love?\""
   ]
  },
  {
   "cell_type": "code",
   "execution_count": 19,
   "id": "6b1bc582-fd8e-4a2f-8347-fb62cbfec1c2",
   "metadata": {
    "height": 353,
    "tags": []
   },
   "outputs": [
    {
     "data": {
      "text/plain": [
       "[{'movie.title': 'Joe Versus the Volcano',\n",
       "  'movie.tagline': 'A story of love, lava and burning desire.',\n",
       "  'score': 0.9402147531509399},\n",
       " {'movie.title': \"You've Got Mail\",\n",
       "  'movie.tagline': 'At odds in life... in love on-line.',\n",
       "  'score': 0.9159703850746155},\n",
       " {'movie.title': 'As Good as It Gets',\n",
       "  'movie.tagline': 'A comedy from the heart that goes for the throat.',\n",
       "  'score': 0.9155163764953613},\n",
       " {'movie.title': 'Apollo 13',\n",
       "  'movie.tagline': 'Houston, we have a problem.',\n",
       "  'score': 0.9103593230247498},\n",
       " {'movie.title': 'Snow Falling on Cedars',\n",
       "  'movie.tagline': 'First loves last. Forever.',\n",
       "  'score': 0.9100793600082397}]"
      ]
     },
     "execution_count": 19,
     "metadata": {},
     "output_type": "execute_result"
    }
   ],
   "source": [
    "kg.query(\"\"\"\n",
    "    WITH genai.vector.encode(\n",
    "        $question, \n",
    "        \"VertexAI\",\n",
    "          {\n",
    "            token: $token,      \n",
    "            projectId: $projectId,\n",
    "            model: $embedding_model\n",
    "          }) AS question_embedding\n",
    "    CALL db.index.vector.queryNodes(\n",
    "        'movie_tagline_embeddings', \n",
    "        $top_k, \n",
    "        question_embedding\n",
    "        ) YIELD node AS movie, score\n",
    "    RETURN movie.title, movie.tagline, score\n",
    "    \"\"\", \n",
    "    params={\"token\":ACCESS_TOKEN, \n",
    "            \"projectId\": PROJECT_ID,\n",
    "            \"embedding_model\": EMBEDDING_MODEL,\n",
    "            \"question\": question,\n",
    "            \"top_k\": 5\n",
    "            })"
   ]
  },
  {
   "cell_type": "markdown",
   "id": "0d3c6eaa-aaea-4a03-b9f8-3c0ead98e83b",
   "metadata": {},
   "source": [
    "### Try for yourself: ask you own question!\n",
    "- Change the question below and run the graph query to find different movies"
   ]
  },
  {
   "cell_type": "code",
   "execution_count": 20,
   "id": "21b08047-0086-4291-8d62-fb646de330fa",
   "metadata": {
    "height": 30,
    "tags": []
   },
   "outputs": [],
   "source": [
    "question = \"What movies are about adventure?\""
   ]
  },
  {
   "cell_type": "code",
   "execution_count": 21,
   "id": "7cdc7751-dddf-46b8-a74b-3d7c5544748f",
   "metadata": {
    "height": 285,
    "tags": []
   },
   "outputs": [
    {
     "data": {
      "text/plain": [
       "[{'movie.title': 'Ninja Assassin',\n",
       "  'movie.tagline': 'Prepare to enter a secret world of assassins',\n",
       "  'score': 0.9230484962463379},\n",
       " {'movie.title': 'Cloud Atlas',\n",
       "  'movie.tagline': 'Everything is connected',\n",
       "  'score': 0.9175840616226196},\n",
       " {'movie.title': 'Apollo 13',\n",
       "  'movie.tagline': 'Houston, we have a problem.',\n",
       "  'score': 0.9151338934898376},\n",
       " {'movie.title': 'The Green Mile',\n",
       "  'movie.tagline': \"Walk a mile you'll never forget.\",\n",
       "  'score': 0.9148365259170532},\n",
       " {'movie.title': 'Cast Away',\n",
       "  'movie.tagline': 'At the edge of the world, his journey begins.',\n",
       "  'score': 0.914813756942749}]"
      ]
     },
     "execution_count": 21,
     "metadata": {},
     "output_type": "execute_result"
    }
   ],
   "source": [
    "kg.query(\"\"\"\n",
    "    WITH genai.vector.encode(\n",
    "        $question, \n",
    "        \"VertexAI\",\n",
    "          {\n",
    "            token: $token,      \n",
    "            projectId: $projectId,\n",
    "            model: $embedding_model\n",
    "          }) AS question_embedding\n",
    "    CALL db.index.vector.queryNodes(\n",
    "        'movie_tagline_embeddings', \n",
    "        $top_k, \n",
    "        question_embedding\n",
    "        ) YIELD node AS movie, score\n",
    "    RETURN movie.title, movie.tagline, score\n",
    "    \"\"\", \n",
    "    params={\"token\":ACCESS_TOKEN, \n",
    "            \"projectId\": PROJECT_ID,\n",
    "            \"embedding_model\": EMBEDDING_MODEL,\n",
    "            \"question\": question,\n",
    "            \"top_k\": 5\n",
    "            })"
   ]
  },
  {
   "cell_type": "code",
   "execution_count": null,
   "id": "332cf685-7858-4271-addb-9c1cd92b6c01",
   "metadata": {
    "tags": []
   },
   "outputs": [],
   "source": [
    "kg.query(\"\"\"\n",
    "  SHOW VECTOR INDEXES\n",
    "  \"\"\"\n",
    ")"
   ]
  },
  {
   "cell_type": "code",
   "execution_count": null,
   "id": "fcbd3e63-49e7-4427-ba5c-82409ee47073",
   "metadata": {
    "tags": []
   },
   "outputs": [],
   "source": [
    "# kg.query(\"\"\"\n",
    "#   DROP INDEX movie_tagline_embeddings\n",
    "#   \"\"\"\n",
    "# )"
   ]
  },
  {
   "cell_type": "code",
   "execution_count": null,
   "id": "3e81f1d2-9fe0-46cf-b168-0f3704fdc73f",
   "metadata": {},
   "outputs": [],
   "source": []
  }
 ],
 "metadata": {
  "environment": {
   "kernel": "conda-root-py",
   "name": "workbench-notebooks.m113",
   "type": "gcloud",
   "uri": "gcr.io/deeplearning-platform-release/workbench-notebooks:m113"
  },
  "kernelspec": {
   "display_name": "Python 3 (ipykernel) (Local)",
   "language": "python",
   "name": "conda-root-py"
  },
  "language_info": {
   "codemirror_mode": {
    "name": "ipython",
    "version": 3
   },
   "file_extension": ".py",
   "mimetype": "text/x-python",
   "name": "python",
   "nbconvert_exporter": "python",
   "pygments_lexer": "ipython3",
   "version": "3.10.13"
  }
 },
 "nbformat": 4,
 "nbformat_minor": 5
}
